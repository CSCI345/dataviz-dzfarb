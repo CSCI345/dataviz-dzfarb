{
 "cells": [
  {
   "cell_type": "code",
   "execution_count": 1,
   "metadata": {},
   "outputs": [
    {
     "data": {
      "application/vnd.jupyter.widget-view+json": {
       "model_id": "3cd58606fba5432fa6520084a543a09d",
       "version_major": 2,
       "version_minor": 0
      },
      "text/plain": [
       "interactive(children=(Text(value='Nemo', description='name'), Dropdown(description='number', options={'Zero': …"
      ]
     },
     "metadata": {},
     "output_type": "display_data"
    }
   ],
   "source": [
    "import matplotlib.pyplot as plt; plt.rcdefaults()\n",
    "from collections import defaultdict\n",
    "import sys\n",
    "import string\n",
    "import os\n",
    "import numpy as np\n",
    "import plotly.graph_objects as go\n",
    "from ipywidgets import interact\n",
    "import nbinteract as nbi\n",
    "\n",
    "punctuation = set(string.punctuation)\n",
    "dir = \"booksdir\"\n",
    "\n",
    "def parsefile(filename):\n",
    "    try:\n",
    "        file = open(filename, \"r\")\n",
    "    except FileNotFoundError:\n",
    "        print(filename, \"is missing from your current directory\")\n",
    "        sys.exit(-1) # quits the program\n",
    "    lines = file.readlines()\n",
    "    file.close()\n",
    "    return lines\n",
    "\n",
    "def createMap(lines):\n",
    "    words = defaultdict(int)\n",
    "    for l in lines:\n",
    "        l = l.strip()\n",
    "        l = ''.join(ch for ch in l if ch not in punctuation)\n",
    "        l = l.lower().split(\" \")\n",
    "        for w in l:\n",
    "            words[w] += 1\n",
    "    return words\n",
    "\n",
    "if __name__ == \"__main__\":\n",
    "    inputword = \"hither\"\n",
    "\n",
    "    directory = os.fsencode(dir)\n",
    "\n",
    "    books = {}\n",
    "    for file in os.listdir(directory):\n",
    "         filename = os.fsdecode(file)\n",
    "         if filename.endswith(\".txt\"):\n",
    "             try:\n",
    "                 file_name = dir+'/'+filename\n",
    "             except FileNotFoundError:\n",
    "                 print(\"Cannot find file\")\n",
    "                 sys.exit(-1)\n",
    "\n",
    "             lines = parsefile(file_name)\n",
    "             words = createMap(lines)\n",
    "             books[filename] = words\n",
    "\n",
    "    objects = list(books.keys())\n",
    "\n",
    "    y_pos = np.arange(len(objects))\n",
    "\n",
    "    performance = []\n",
    "    for title in objects:\n",
    "        performance.append(books[title][inputword])\n",
    "\n",
    "    def update(name, number):\n",
    "        return '{} has {} cars!'.format(name, number)\n",
    "\n",
    "    interact(update, name='Nemo', number={'Zero': 0, 'Two': 2,\n",
    "                                        'Three': 3, 'Ten': 10});\n",
    "\n",
    "    #fig = go.Figure([go.Bar(x=objects, y=performance)])\n",
    "    #fig.update_layout(xaxis={'categoryorder':'category descending'})\n",
    "    #fig.show()"
   ]
  },
  {
   "cell_type": "code",
   "execution_count": null,
   "metadata": {},
   "outputs": [],
   "source": []
  }
 ],
 "metadata": {
  "kernelspec": {
   "display_name": "Python 3",
   "language": "python",
   "name": "python3"
  },
  "language_info": {
   "codemirror_mode": {
    "name": "ipython",
    "version": 3
   },
   "file_extension": ".py",
   "mimetype": "text/x-python",
   "name": "python",
   "nbconvert_exporter": "python",
   "pygments_lexer": "ipython3",
   "version": "3.6.1"
  }
 },
 "nbformat": 4,
 "nbformat_minor": 2
}
