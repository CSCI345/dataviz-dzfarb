{
 "cells": [
  {
   "cell_type": "code",
   "execution_count": 1,
   "metadata": {},
   "outputs": [
    {
     "data": {
      "application/vnd.jupyter.widget-view+json": {
       "model_id": "1bf5e72857884ad29b7ec0f8a8abbc9e",
       "version_major": 2,
       "version_minor": 0
      },
      "text/plain": [
       "interactive(children=(Text(value='type word here', description='word'), Button(description='Run Interact', sty…"
      ]
     },
     "metadata": {},
     "output_type": "display_data"
    }
   ],
   "source": [
    "from collections import defaultdict\n",
    "import sys\n",
    "import string\n",
    "import os\n",
    "import numpy as np\n",
    "import plotly.graph_objects as go\n",
    "from ipywidgets import interact_manual\n",
    "\n",
    "punctuation = set(string.punctuation)\n",
    "dir = \"booksdir\"\n",
    "\n",
    "def parsefile(filename):\n",
    "    file = open(filename, \"r\")\n",
    "    lines = file.readlines()\n",
    "    file.close()\n",
    "    return lines\n",
    "\n",
    "def createMap(lines):\n",
    "    words = defaultdict(int)\n",
    "    for l in lines:\n",
    "        l = l.strip()\n",
    "        l = ''.join(ch for ch in l if ch not in punctuation)\n",
    "        l = l.lower().split(\" \")\n",
    "        for w in l:\n",
    "            words[w] += 1\n",
    "    return words\n",
    "\n",
    "if __name__ == \"__main__\":\n",
    "\n",
    "    directory = os.fsencode(dir)\n",
    "\n",
    "    books = {}\n",
    "    for file in os.listdir(directory):\n",
    "         filename = os.fsdecode(file)\n",
    "         if filename.endswith(\".txt\"):\n",
    "             try:\n",
    "                 file_name = dir+'/'+filename\n",
    "             except FileNotFoundError:\n",
    "                 print(\"Cannot find file\")\n",
    "                 sys.exit(-1)\n",
    "\n",
    "             lines = parsefile(file_name)\n",
    "             words = createMap(lines)\n",
    "             books[filename] = words\n",
    "\n",
    "    book_titles = list(books.keys())\n",
    "\n",
    "    y_pos = np.arange(len(book_titles))\n",
    "\n",
    "    def update(word):\n",
    "        inputword = word\n",
    "        performance = []\n",
    "        for title in book_titles:\n",
    "            performance.append(books[title][inputword])\n",
    "        fig = go.Figure([go.Bar(x=book_titles, y=performance, name=inputword)])\n",
    "        fig.show()\n",
    "        return\n",
    "\n",
    "    interact_manual(update, word=\"type word here\");\n"
   ]
  },
  {
   "cell_type": "code",
   "execution_count": null,
   "metadata": {},
   "outputs": [],
   "source": []
  }
 ],
 "metadata": {
  "kernelspec": {
   "display_name": "Python 3",
   "language": "python",
   "name": "python3"
  },
  "language_info": {
   "codemirror_mode": {
    "name": "ipython",
    "version": 3
   },
   "file_extension": ".py",
   "mimetype": "text/x-python",
   "name": "python",
   "nbconvert_exporter": "python",
   "pygments_lexer": "ipython3",
   "version": "3.6.1"
  }
 },
 "nbformat": 4,
 "nbformat_minor": 2
}
