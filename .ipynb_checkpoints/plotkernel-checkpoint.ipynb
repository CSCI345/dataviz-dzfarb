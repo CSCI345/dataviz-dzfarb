{
 "cells": [
  {
   "cell_type": "code",
   "execution_count": 1,
   "metadata": {},
   "outputs": [
    {
     "data": {
      "application/vnd.jupyter.widget-view+json": {
       "model_id": "2ad3773997af4c8eb7ace14e27954c0b",
       "version_major": 2,
       "version_minor": 0
      },
      "text/plain": [
       "interactive(children=(Text(value='type word here', description='phrase'), Button(description='Run Interact', s…"
      ]
     },
     "metadata": {},
     "output_type": "display_data"
    }
   ],
   "source": [
    "#Dizzy Farbanish\n",
    "#CS345\n",
    "#HW 1\n",
    "\n",
    "#This is a program that reads in book text files from a directory and\n",
    "#creates a bar graph with an interactive textbox, that allows you to\n",
    "#search and compare words and phrase counts between books\n",
    "\n",
    "#imports\n",
    "from collections import defaultdict\n",
    "import sys\n",
    "import string\n",
    "import os\n",
    "import numpy as np\n",
    "import plotly.graph_objects as go\n",
    "from ipywidgets import interact_manual\n",
    "\n",
    "#initialize global variables\n",
    "punctuation = set(string.punctuation)\n",
    "#file name of book directory\n",
    "DIRECTORY = \"booksdir\"\n",
    "#parameter for maximum length of a phrase to be inserted into dictionary\n",
    "PHRASE_LENGTH = 6\n",
    "\n",
    "#parses the files\n",
    "def parsefile(filename):\n",
    "    file = open(filename, \"r\")\n",
    "    lines = file.readlines()\n",
    "    file.close()\n",
    "    return lines\n",
    "\n",
    "#generates dictionary of words and phrases to counts\n",
    "def createMap(lines):\n",
    "    words = defaultdict(int)\n",
    "    for l in lines:\n",
    "        l = l.strip()\n",
    "        l = ''.join(ch for ch in l if ch not in punctuation)\n",
    "        l = l.lower().split(\" \")\n",
    "        for i in range(len(l)):\n",
    "            baseword = l[i]\n",
    "            words[baseword] += 1\n",
    "            for j in range(1, PHRASE_LENGTH):\n",
    "                if (i + j) >= len(l):\n",
    "                    break\n",
    "                baseword = baseword + ' ' + l[j]\n",
    "                words[baseword] += 1\n",
    "    return words\n",
    "\n",
    "#main function\n",
    "if __name__ == \"__main__\":\n",
    "\n",
    "    dir = os.fsencode(DIRECTORY)\n",
    "\n",
    "    #iterates through all books in the directory\n",
    "    #builds dictionary of all books and word and phrase counts for each book\n",
    "    books = {}\n",
    "    for file in os.listdir(dir):\n",
    "         filename = os.fsdecode(file)\n",
    "         if filename.endswith(\".txt\"):\n",
    "             try:\n",
    "                 file_name = DIRECTORY+'/'+filename\n",
    "             except FileNotFoundError:\n",
    "                 print(\"Cannot find file\")\n",
    "                 sys.exit(-1)\n",
    "             lines = parsefile(file_name)\n",
    "             words = createMap(lines)\n",
    "             books[filename] = words\n",
    "\n",
    "    book_titles = list(books.keys())\n",
    "\n",
    "    y_pos = np.arange(len(book_titles))\n",
    "\n",
    "    #function that handles text box input\n",
    "    def update(phrase):\n",
    "        inputword = phrase\n",
    "        performance = []\n",
    "        for title in book_titles:\n",
    "            performance.append(books[title][inputword])\n",
    "        fig = go.Figure([go.Bar(x=book_titles, y=performance, name=inputword)])\n",
    "        fig.show()\n",
    "        return\n",
    "\n",
    "    #enables interactive text box\n",
    "    interact_manual(update, phrase=\"type word here\");"
   ]
  },
  {
   "cell_type": "code",
   "execution_count": null,
   "metadata": {},
   "outputs": [],
   "source": []
  }
 ],
 "metadata": {
  "kernelspec": {
   "display_name": "Python 3",
   "language": "python",
   "name": "python3"
  },
  "language_info": {
   "codemirror_mode": {
    "name": "ipython",
    "version": 3
   },
   "file_extension": ".py",
   "mimetype": "text/x-python",
   "name": "python",
   "nbconvert_exporter": "python",
   "pygments_lexer": "ipython3",
   "version": "3.6.1"
  }
 },
 "nbformat": 4,
 "nbformat_minor": 2
}
